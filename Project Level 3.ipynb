{
 "cells": [
  {
   "cell_type": "code",
   "execution_count": 1,
   "metadata": {},
   "outputs": [
    {
     "name": "stderr",
     "output_type": "stream",
     "text": [
      "Using TensorFlow backend.\n"
     ]
    }
   ],
   "source": [
    "import matplotlib as mlp\n",
    "import matplotlib.pyplot as plt\n",
    "import pandas as pd\n",
    "import numpy as np\n",
    "from sklearn.model_selection import train_test_split\n",
    "from keras.models import Sequential\n",
    "from keras.layers import Dense, Dropout, Flatten, Activation\n",
    "from keras.layers.convolutional import Conv2D, MaxPooling2D\n",
    "from keras.optimizers import Adam, rmsprop\n",
    "from keras.utils.np_utils import to_categorical\n",
    "import cv2\n",
    "import sys\n",
    "import os"
   ]
  },
  {
   "cell_type": "code",
   "execution_count": 2,
   "metadata": {},
   "outputs": [],
   "source": [
    "train_dir = \"Level 3/train\"\n",
    "test_dir = \"Level 3/test\"\n",
    "categories = [\"guide\",\"regulatory\",\"warning\"]"
   ]
  },
  {
   "cell_type": "code",
   "execution_count": 3,
   "metadata": {},
   "outputs": [],
   "source": [
    "from keras.preprocessing.image import ImageDataGenerator, array_to_img, img_to_array, load_img"
   ]
  },
  {
   "cell_type": "code",
   "execution_count": 4,
   "metadata": {},
   "outputs": [],
   "source": [
    "trainval_data = []\n",
    "IMG_SIZE = 64\n",
    "\n",
    "def create_trainval_data():\n",
    "    for category in categories:\n",
    "        path = os.path.join(train_dir, category)\n",
    "        class_num = categories.index(category)\n",
    "        for img in os.listdir(path):\n",
    "            img_array = cv2.imread(os.path.join(path,img), cv2.IMREAD_UNCHANGED)\n",
    "            img_array = cv2.cvtColor(img_array, cv2.COLOR_BGR2RGB)\n",
    "            new_img_array = cv2.resize(img_array, (IMG_SIZE, IMG_SIZE))\n",
    "            trainval_data.append([new_img_array, class_num])        "
   ]
  },
  {
   "cell_type": "code",
   "execution_count": 5,
   "metadata": {},
   "outputs": [],
   "source": [
    "create_trainval_data()"
   ]
  },
  {
   "cell_type": "code",
   "execution_count": 6,
   "metadata": {},
   "outputs": [],
   "source": [
    "test_data = []\n",
    "\n",
    "def create_test_data():\n",
    "    for category in categories:\n",
    "        path = os.path.join(test_dir, category)\n",
    "        class_num = categories.index(category)\n",
    "        for img in os.listdir(path):\n",
    "            img_array = cv2.imread(os.path.join(path,img), cv2.IMREAD_UNCHANGED)\n",
    "            img_array = cv2.cvtColor(img_array, cv2.COLOR_BGR2RGB)\n",
    "            new_img_array = cv2.resize(img_array, (IMG_SIZE, IMG_SIZE))\n",
    "            test_data.append([new_img_array, class_num])        "
   ]
  },
  {
   "cell_type": "code",
   "execution_count": 7,
   "metadata": {},
   "outputs": [],
   "source": [
    "create_test_data()"
   ]
  },
  {
   "cell_type": "code",
   "execution_count": 8,
   "metadata": {},
   "outputs": [],
   "source": [
    "import random\n",
    "random.seed(42)\n",
    "random.shuffle(trainval_data)"
   ]
  },
  {
   "cell_type": "code",
   "execution_count": 9,
   "metadata": {},
   "outputs": [],
   "source": [
    "X = []\n",
    "y = []\n",
    "\n",
    "X_test = []\n",
    "y_test = []"
   ]
  },
  {
   "cell_type": "code",
   "execution_count": 10,
   "metadata": {},
   "outputs": [],
   "source": [
    "for features, labels in trainval_data:\n",
    "    X.append(features)\n",
    "    y.append(labels)"
   ]
  },
  {
   "cell_type": "code",
   "execution_count": 11,
   "metadata": {},
   "outputs": [],
   "source": [
    "for features, labels in test_data:\n",
    "    X_test.append(features)\n",
    "    y_test.append(labels)"
   ]
  },
  {
   "cell_type": "code",
   "execution_count": 12,
   "metadata": {},
   "outputs": [
    {
     "data": {
      "text/plain": [
       "25"
      ]
     },
     "execution_count": 12,
     "metadata": {},
     "output_type": "execute_result"
    }
   ],
   "source": [
    "len(X_test)"
   ]
  },
  {
   "cell_type": "code",
   "execution_count": 13,
   "metadata": {},
   "outputs": [],
   "source": [
    "X = np.array(X)\n",
    "y = np.array(y)\n",
    "X_test = np.array(X_test)\n",
    "y_test = np.array(y_test)"
   ]
  },
  {
   "cell_type": "code",
   "execution_count": 14,
   "metadata": {},
   "outputs": [
    {
     "name": "stdout",
     "output_type": "stream",
     "text": [
      "(226, 64, 64, 3)\n",
      "(226,)\n",
      "(25, 64, 64, 3)\n",
      "(25,)\n"
     ]
    }
   ],
   "source": [
    "print(X.shape)\n",
    "print(y.shape)\n",
    "print(X_test.shape)\n",
    "print(y_test.shape)"
   ]
  },
  {
   "cell_type": "code",
   "execution_count": 15,
   "metadata": {},
   "outputs": [],
   "source": [
    "X_train, X_valid, y_train, y_valid = train_test_split(X, y, test_size = 0.2)"
   ]
  },
  {
   "cell_type": "code",
   "execution_count": 16,
   "metadata": {},
   "outputs": [
    {
     "data": {
      "text/plain": [
       "(46,)"
      ]
     },
     "execution_count": 16,
     "metadata": {},
     "output_type": "execute_result"
    }
   ],
   "source": [
    "y_valid.shape"
   ]
  },
  {
   "cell_type": "code",
   "execution_count": 17,
   "metadata": {},
   "outputs": [],
   "source": [
    "train_datagen = ImageDataGenerator(rotation_range = 40,\n",
    "                            width_shift_range = 0.2,\n",
    "                            height_shift_range = 0.2,\n",
    "                            rescale = 1. / 255,\n",
    "                            shear_range = 0.2,\n",
    "                            zoom_range = 0.2)\n",
    "\n",
    "validation_datagen = ImageDataGenerator(rescale = 1. / 255)\n",
    "\n",
    "test_datagen = ImageDataGenerator(rescale = 1. / 255)"
   ]
  },
  {
   "cell_type": "code",
   "execution_count": 18,
   "metadata": {},
   "outputs": [],
   "source": [
    "train_datagen.fit(X_train)\n",
    "validation_datagen.fit(X_valid)"
   ]
  },
  {
   "cell_type": "code",
   "execution_count": 19,
   "metadata": {},
   "outputs": [],
   "source": [
    "test_datagen.fit(X_train)"
   ]
  },
  {
   "cell_type": "code",
   "execution_count": 20,
   "metadata": {},
   "outputs": [],
   "source": [
    "y_train_categorical = to_categorical(y_train, 3)\n",
    "y_valid_categorical = to_categorical(y_valid, 3)\n",
    "y_test_categorical = to_categorical(y_test, 3)"
   ]
  },
  {
   "cell_type": "code",
   "execution_count": 21,
   "metadata": {},
   "outputs": [
    {
     "data": {
      "text/plain": [
       "(180,)"
      ]
     },
     "execution_count": 21,
     "metadata": {},
     "output_type": "execute_result"
    }
   ],
   "source": [
    "y_train.shape"
   ]
  },
  {
   "cell_type": "code",
   "execution_count": 22,
   "metadata": {},
   "outputs": [
    {
     "data": {
      "text/plain": [
       "(46, 3)"
      ]
     },
     "execution_count": 22,
     "metadata": {},
     "output_type": "execute_result"
    }
   ],
   "source": [
    "y_valid_categorical.shape"
   ]
  },
  {
   "cell_type": "code",
   "execution_count": 23,
   "metadata": {},
   "outputs": [],
   "source": [
    "channels = 3\n",
    "train_img_size = len(X_train)\n",
    "batch_size = 64\n",
    "validation_img_size = len(X_valid)"
   ]
  },
  {
   "cell_type": "code",
   "execution_count": 24,
   "metadata": {},
   "outputs": [
    {
     "data": {
      "text/plain": [
       "(180, 64, 64, 3)"
      ]
     },
     "execution_count": 24,
     "metadata": {},
     "output_type": "execute_result"
    }
   ],
   "source": [
    "X_train.shape"
   ]
  },
  {
   "cell_type": "code",
   "execution_count": 25,
   "metadata": {},
   "outputs": [
    {
     "name": "stdout",
     "output_type": "stream",
     "text": [
      "Model: \"sequential_1\"\n",
      "_________________________________________________________________\n",
      "Layer (type)                 Output Shape              Param #   \n",
      "=================================================================\n",
      "conv2d_1 (Conv2D)            (None, 62, 62, 32)        896       \n",
      "_________________________________________________________________\n",
      "max_pooling2d_1 (MaxPooling2 (None, 31, 31, 32)        0         \n",
      "_________________________________________________________________\n",
      "conv2d_2 (Conv2D)            (None, 29, 29, 64)        18496     \n",
      "_________________________________________________________________\n",
      "max_pooling2d_2 (MaxPooling2 (None, 14, 14, 64)        0         \n",
      "_________________________________________________________________\n",
      "flatten_1 (Flatten)          (None, 12544)             0         \n",
      "_________________________________________________________________\n",
      "dense_1 (Dense)              (None, 64)                802880    \n",
      "_________________________________________________________________\n",
      "activation_1 (Activation)    (None, 64)                0         \n",
      "_________________________________________________________________\n",
      "dropout_1 (Dropout)          (None, 64)                0         \n",
      "_________________________________________________________________\n",
      "dense_2 (Dense)              (None, 3)                 195       \n",
      "_________________________________________________________________\n",
      "activation_2 (Activation)    (None, 3)                 0         \n",
      "=================================================================\n",
      "Total params: 822,467\n",
      "Trainable params: 822,467\n",
      "Non-trainable params: 0\n",
      "_________________________________________________________________\n"
     ]
    }
   ],
   "source": [
    "model = Sequential()\n",
    "\n",
    "model.add(Conv2D(32, (3,3), input_shape = (IMG_SIZE, IMG_SIZE, channels), activation = 'relu', data_format = 'channels_last'))\n",
    "model.add(MaxPooling2D(pool_size=(2,2), strides=2))\n",
    "\n",
    "model.add(Conv2D(64, (3,3), activation = 'relu'))\n",
    "model.add(MaxPooling2D(pool_size=(2,2), strides=2))\n",
    "\n",
    "model.add(Flatten())\n",
    "model.add(Dense(64))\n",
    "model.add(Activation('tanh'))\n",
    "model.add(Dropout(0.375))\n",
    "model.add(Dense(3))\n",
    "model.add(Activation('softmax'))\n",
    "          \n",
    "model.compile(loss = 'categorical_crossentropy', optimizer = 'Adadelta', metrics = ['accuracy'])\n",
    "model.summary()"
   ]
  },
  {
   "cell_type": "code",
   "execution_count": 26,
   "metadata": {},
   "outputs": [
    {
     "name": "stdout",
     "output_type": "stream",
     "text": [
      "Epoch 1/50\n",
      "6/6 [==============================] - 1s 112ms/step - loss: 1.5180 - accuracy: 0.3778 - val_loss: 1.0582 - val_accuracy: 0.4348\n",
      "Epoch 2/50\n",
      "6/6 [==============================] - 1s 99ms/step - loss: 1.0250 - accuracy: 0.4111 - val_loss: 0.9761 - val_accuracy: 0.4348\n",
      "Epoch 3/50\n",
      "6/6 [==============================] - 1s 89ms/step - loss: 0.8541 - accuracy: 0.6111 - val_loss: 1.7848 - val_accuracy: 0.5435\n",
      "Epoch 4/50\n",
      "6/6 [==============================] - 1s 101ms/step - loss: 0.9170 - accuracy: 0.5389 - val_loss: 1.0186 - val_accuracy: 0.4348\n",
      "Epoch 5/50\n",
      "6/6 [==============================] - 1s 99ms/step - loss: 0.8577 - accuracy: 0.5833 - val_loss: 0.8112 - val_accuracy: 0.4783\n",
      "Epoch 6/50\n",
      "6/6 [==============================] - 1s 97ms/step - loss: 0.8463 - accuracy: 0.6333 - val_loss: 0.5770 - val_accuracy: 0.6304\n",
      "Epoch 7/50\n",
      "6/6 [==============================] - 1s 98ms/step - loss: 0.6999 - accuracy: 0.7056 - val_loss: 2.5155 - val_accuracy: 0.4130\n",
      "Epoch 8/50\n",
      "6/6 [==============================] - 1s 96ms/step - loss: 0.9167 - accuracy: 0.5444 - val_loss: 0.9140 - val_accuracy: 0.5652\n",
      "Epoch 9/50\n",
      "6/6 [==============================] - 1s 105ms/step - loss: 0.7090 - accuracy: 0.6611 - val_loss: 0.5033 - val_accuracy: 0.7174\n",
      "Epoch 10/50\n",
      "6/6 [==============================] - 1s 125ms/step - loss: 0.7795 - accuracy: 0.6556 - val_loss: 0.8042 - val_accuracy: 0.5217\n",
      "Epoch 11/50\n",
      "6/6 [==============================] - 1s 143ms/step - loss: 0.6661 - accuracy: 0.6889 - val_loss: 0.9912 - val_accuracy: 0.6739\n",
      "Epoch 12/50\n",
      "6/6 [==============================] - 1s 152ms/step - loss: 0.7666 - accuracy: 0.6389 - val_loss: 0.8372 - val_accuracy: 0.6957\n",
      "Epoch 13/50\n",
      "6/6 [==============================] - 1s 138ms/step - loss: 0.6637 - accuracy: 0.7000 - val_loss: 0.8776 - val_accuracy: 0.5652\n",
      "Epoch 14/50\n",
      "6/6 [==============================] - 1s 145ms/step - loss: 0.7006 - accuracy: 0.6611 - val_loss: 0.4425 - val_accuracy: 0.5870\n",
      "Epoch 15/50\n",
      "6/6 [==============================] - 1s 137ms/step - loss: 0.6742 - accuracy: 0.7444 - val_loss: 0.8013 - val_accuracy: 0.6304\n",
      "Epoch 16/50\n",
      "6/6 [==============================] - 1s 133ms/step - loss: 0.5770 - accuracy: 0.7833 - val_loss: 0.5672 - val_accuracy: 0.7391\n",
      "Epoch 17/50\n",
      "6/6 [==============================] - 1s 120ms/step - loss: 0.6136 - accuracy: 0.7611 - val_loss: 0.5945 - val_accuracy: 0.8043\n",
      "Epoch 18/50\n",
      "6/6 [==============================] - 1s 127ms/step - loss: 0.6765 - accuracy: 0.7000 - val_loss: 0.7718 - val_accuracy: 0.6304\n",
      "Epoch 19/50\n",
      "6/6 [==============================] - 1s 133ms/step - loss: 0.5330 - accuracy: 0.8000 - val_loss: 0.5325 - val_accuracy: 0.8043\n",
      "Epoch 20/50\n",
      "6/6 [==============================] - 1s 125ms/step - loss: 0.6043 - accuracy: 0.7944 - val_loss: 0.3891 - val_accuracy: 0.7391\n",
      "Epoch 21/50\n",
      "6/6 [==============================] - 1s 130ms/step - loss: 0.6239 - accuracy: 0.7833 - val_loss: 0.5623 - val_accuracy: 0.7609\n",
      "Epoch 22/50\n",
      "6/6 [==============================] - 1s 125ms/step - loss: 0.5277 - accuracy: 0.7500 - val_loss: 0.7074 - val_accuracy: 0.7609\n",
      "Epoch 23/50\n",
      "6/6 [==============================] - 1s 123ms/step - loss: 0.5027 - accuracy: 0.7778 - val_loss: 0.6410 - val_accuracy: 0.7609\n",
      "Epoch 24/50\n",
      "6/6 [==============================] - 1s 125ms/step - loss: 0.4909 - accuracy: 0.8389 - val_loss: 0.5838 - val_accuracy: 0.7391\n",
      "Epoch 25/50\n",
      "6/6 [==============================] - 1s 122ms/step - loss: 0.4448 - accuracy: 0.8056 - val_loss: 0.4151 - val_accuracy: 0.8261\n",
      "Epoch 26/50\n",
      "6/6 [==============================] - 1s 122ms/step - loss: 0.3984 - accuracy: 0.8444 - val_loss: 0.4358 - val_accuracy: 0.6739\n",
      "Epoch 27/50\n",
      "6/6 [==============================] - 1s 131ms/step - loss: 0.4459 - accuracy: 0.8389 - val_loss: 0.4128 - val_accuracy: 0.8043\n",
      "Epoch 28/50\n",
      "6/6 [==============================] - 1s 125ms/step - loss: 0.4488 - accuracy: 0.8222 - val_loss: 0.4452 - val_accuracy: 0.8043\n",
      "Epoch 29/50\n",
      "6/6 [==============================] - 1s 115ms/step - loss: 0.4701 - accuracy: 0.8222 - val_loss: 0.2265 - val_accuracy: 0.7609\n",
      "Epoch 30/50\n",
      "6/6 [==============================] - 1s 132ms/step - loss: 0.5403 - accuracy: 0.7889 - val_loss: 0.4015 - val_accuracy: 0.7609\n",
      "Epoch 31/50\n",
      "6/6 [==============================] - 1s 125ms/step - loss: 0.5067 - accuracy: 0.7944 - val_loss: 0.1817 - val_accuracy: 0.8261\n",
      "Epoch 32/50\n",
      "6/6 [==============================] - 1s 117ms/step - loss: 0.4555 - accuracy: 0.8167 - val_loss: 0.2978 - val_accuracy: 0.8913\n",
      "Epoch 33/50\n",
      "6/6 [==============================] - 1s 127ms/step - loss: 0.4287 - accuracy: 0.8333 - val_loss: 0.3294 - val_accuracy: 0.8043\n",
      "Epoch 34/50\n",
      "6/6 [==============================] - 1s 119ms/step - loss: 0.5327 - accuracy: 0.8056 - val_loss: 0.3549 - val_accuracy: 0.8043\n",
      "Epoch 35/50\n",
      "6/6 [==============================] - 1s 134ms/step - loss: 0.4014 - accuracy: 0.8556 - val_loss: 0.4860 - val_accuracy: 0.7826\n",
      "Epoch 36/50\n",
      "6/6 [==============================] - 1s 128ms/step - loss: 0.4698 - accuracy: 0.8389 - val_loss: 0.3119 - val_accuracy: 0.8043\n",
      "Epoch 37/50\n",
      "6/6 [==============================] - 1s 136ms/step - loss: 0.4455 - accuracy: 0.8500 - val_loss: 0.4455 - val_accuracy: 0.8261\n",
      "Epoch 38/50\n",
      "6/6 [==============================] - 1s 122ms/step - loss: 0.3519 - accuracy: 0.8667 - val_loss: 0.4518 - val_accuracy: 0.7826\n",
      "Epoch 39/50\n",
      "6/6 [==============================] - 1s 126ms/step - loss: 0.4498 - accuracy: 0.8778 - val_loss: 0.3458 - val_accuracy: 0.8043\n",
      "Epoch 40/50\n",
      "6/6 [==============================] - 1s 124ms/step - loss: 0.3641 - accuracy: 0.8722 - val_loss: 1.2897 - val_accuracy: 0.6957\n",
      "Epoch 41/50\n",
      "6/6 [==============================] - 1s 125ms/step - loss: 0.4018 - accuracy: 0.8500 - val_loss: 1.0077 - val_accuracy: 0.7391\n",
      "Epoch 42/50\n",
      "6/6 [==============================] - 1s 122ms/step - loss: 0.4617 - accuracy: 0.8056 - val_loss: 0.3084 - val_accuracy: 0.8913\n",
      "Epoch 43/50\n",
      "6/6 [==============================] - 1s 120ms/step - loss: 0.4136 - accuracy: 0.8722 - val_loss: 0.4719 - val_accuracy: 0.7826\n",
      "Epoch 44/50\n",
      "6/6 [==============================] - 1s 119ms/step - loss: 0.3691 - accuracy: 0.8722 - val_loss: 0.3610 - val_accuracy: 0.8043\n",
      "Epoch 45/50\n",
      "6/6 [==============================] - 1s 133ms/step - loss: 0.3539 - accuracy: 0.8889 - val_loss: 0.2269 - val_accuracy: 0.8043\n",
      "Epoch 46/50\n",
      "6/6 [==============================] - 1s 127ms/step - loss: 0.3842 - accuracy: 0.8556 - val_loss: 0.1978 - val_accuracy: 0.7609\n",
      "Epoch 47/50\n",
      "6/6 [==============================] - 1s 143ms/step - loss: 0.3637 - accuracy: 0.8722 - val_loss: 0.7161 - val_accuracy: 0.7391\n",
      "Epoch 48/50\n",
      "6/6 [==============================] - 1s 187ms/step - loss: 0.4164 - accuracy: 0.8111 - val_loss: 0.2927 - val_accuracy: 0.8478\n",
      "Epoch 49/50\n",
      "6/6 [==============================] - 1s 157ms/step - loss: 0.3292 - accuracy: 0.8889 - val_loss: 0.6760 - val_accuracy: 0.8478\n",
      "Epoch 50/50\n",
      "6/6 [==============================] - 1s 166ms/step - loss: 0.3726 - accuracy: 0.8167 - val_loss: 0.0836 - val_accuracy: 0.8913\n"
     ]
    }
   ],
   "source": [
    "history = model.fit(train_datagen.flow(X_train, y_train_categorical),\n",
    "                              validation_data=validation_datagen.flow(X_valid, y_valid_categorical),\n",
    "                                                                      epochs=50)"
   ]
  },
  {
   "cell_type": "code",
   "execution_count": 27,
   "metadata": {},
   "outputs": [
    {
     "data": {
      "image/png": "[encoded data removed]",
      "text/plain": [
       "<Figure size 432x288 with 1 Axes>"
      ]
     },
     "metadata": {
      "needs_background": "light"
     },
     "output_type": "display_data"
    }
   ],
   "source": [
    "plt.plot(history.history['accuracy'])\n",
    "plt.plot(history.history['val_accuracy'])\n",
    "plt.title('Model accuracy')\n",
    "plt.ylabel('Accuracy')\n",
    "plt.xlabel('Epoch')\n",
    "plt.legend(['Train', 'Validation'], loc='lower right')\n",
    "plt.show()"
   ]
  },
  {
   "cell_type": "code",
   "execution_count": 28,
   "metadata": {},
   "outputs": [],
   "source": [
    "model.save('decentmodel1.h5')"
   ]
  },
  {
   "cell_type": "code",
   "execution_count": 29,
   "metadata": {},
   "outputs": [
    {
     "name": "stdout",
     "output_type": "stream",
     "text": [
      "\r",
      "25/25 [==============================] - 0s 401us/step\n"
     ]
    }
   ],
   "source": [
    "score = model.evaluate(X_test, y_test_categorical)"
   ]
  },
  {
   "cell_type": "code",
   "execution_count": 30,
   "metadata": {},
   "outputs": [
    {
     "data": {
      "text/plain": [
       "[0.28205084800720215, 0.9599999785423279]"
      ]
     },
     "execution_count": 30,
     "metadata": {},
     "output_type": "execute_result"
    }
   ],
   "source": [
    "score"
   ]
  },
  {
   "cell_type": "code",
   "execution_count": 31,
   "metadata": {},
   "outputs": [
    {
     "data": {
      "text/plain": [
       "<matplotlib.image.AxesImage at 0x20654e5df08>"
      ]
     },
     "execution_count": 31,
     "metadata": {},
     "output_type": "execute_result"
    },
    {
     "data": {
      "image/png": "[encoded data removed]",
      "text/plain": [
       "<Figure size 432x288 with 1 Axes>"
      ]
     },
     "metadata": {
      "needs_background": "light"
     },
     "output_type": "display_data"
    }
   ],
   "source": [
    "plt.imshow(X_test[6])"
   ]
  },
  {
   "cell_type": "code",
   "execution_count": 32,
   "metadata": {},
   "outputs": [
    {
     "name": "stdout",
     "output_type": "stream",
     "text": [
      "Predicted Sign[0]\n",
      "Predicted Sign[0]\n",
      "Predicted Sign[0]\n",
      "Predicted Sign[0]\n",
      "Predicted Sign[0]\n",
      "Predicted Sign[0]\n",
      "Predicted Sign[0]\n",
      "Predicted Sign[0]\n",
      "Predicted Sign[0]\n",
      "Predicted Sign[0]\n",
      "Predicted Sign[1]\n",
      "Predicted Sign[1]\n",
      "Predicted Sign[1]\n",
      "Predicted Sign[1]\n",
      "Predicted Sign[1]\n",
      "Predicted Sign[1]\n",
      "Predicted Sign[1]\n",
      "Predicted Sign[0]\n",
      "Predicted Sign[1]\n",
      "Predicted Sign[1]\n",
      "Predicted Sign[2]\n",
      "Predicted Sign[2]\n",
      "Predicted Sign[2]\n",
      "Predicted Sign[2]\n",
      "Predicted Sign[2]\n"
     ]
    }
   ],
   "source": [
    "for i in range(len(X_test)):\n",
    "    print('Predicted Sign' + str\n",
    "         (model.predict_classes(X_test[i].reshape(1,64,64,3))))"
   ]
  },
  {
   "cell_type": "code",
   "execution_count": 33,
   "metadata": {},
   "outputs": [],
   "source": [
    "y_pred = model.predict(X_test)"
   ]
  },
  {
   "cell_type": "code",
   "execution_count": 34,
   "metadata": {},
   "outputs": [],
   "source": [
    "results_class = np.argmax(y_pred, axis=1, out=None)"
   ]
  },
  {
   "cell_type": "code",
   "execution_count": 35,
   "metadata": {},
   "outputs": [
    {
     "name": "stdout",
     "output_type": "stream",
     "text": [
      "[[10  1  0]\n",
      " [ 0  9  0]\n",
      " [ 0  0  5]]\n"
     ]
    }
   ],
   "source": [
    "from sklearn.metrics import confusion_matrix\n",
    "\n",
    "print(confusion_matrix(results_class, y_test))"
   ]
  },
  {
   "cell_type": "code",
   "execution_count": 36,
   "metadata": {},
   "outputs": [
    {
     "name": "stdout",
     "output_type": "stream",
     "text": [
      "              precision    recall  f1-score   support\n",
      "\n",
      "           0       1.00      0.91      0.95        11\n",
      "           1       0.90      1.00      0.95         9\n",
      "           2       1.00      1.00      1.00         5\n",
      "\n",
      "    accuracy                           0.96        25\n",
      "   macro avg       0.97      0.97      0.97        25\n",
      "weighted avg       0.96      0.96      0.96        25\n",
      "\n"
     ]
    }
   ],
   "source": [
    "from sklearn.metrics import classification_report\n",
    "\n",
    "print(classification_report(results_class, y_test))"
   ]
  },
  {
   "cell_type": "code",
   "execution_count": 39,
   "metadata": {},
   "outputs": [
    {
     "name": "stdout",
     "output_type": "stream",
     "text": [
      "The random image label is  8\n"
     ]
    },
    {
     "data": {
      "image/png": "[encoded data removed]",
      "text/plain": [
       "<Figure size 432x288 with 1 Axes>"
      ]
     },
     "metadata": {
      "needs_background": "light"
     },
     "output_type": "display_data"
    },
    {
     "name": "stdout",
     "output_type": "stream",
     "text": [
      "Predicted Sign[0]\n"
     ]
    }
   ],
   "source": [
    "random_img = random.randint(0,74)\n",
    "print(\"The random image label is \", random_img)\n",
    "plt.imshow(X_test[random_img])\n",
    "plt.show()\n",
    "print('Predicted Sign' + str\n",
    "         (model.predict_classes(X_test[random_img].reshape(1,64,64,3))))"
   ]
  }
 ],
 "metadata": {
  "kernelspec": {
   "display_name": "Python 3",
   "language": "python",
   "name": "python3"
  },
  "language_info": {
   "codemirror_mode": {
    "name": "ipython",
    "version": 3
   },
   "file_extension": ".py",
   "mimetype": "text/x-python",
   "name": "python",
   "nbconvert_exporter": "python",
   "pygments_lexer": "ipython3",
   "version": "3.7.4"
  }
 },
 "nbformat": 4,
 "nbformat_minor": 4
}
